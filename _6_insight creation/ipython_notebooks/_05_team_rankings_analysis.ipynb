{
 "cells": [
  {
   "cell_type": "code",
   "execution_count": 1,
   "metadata": {
    "collapsed": true
   },
   "outputs": [],
   "source": [
    "import numpy as np\n",
    "import pandas as pd\n",
    "import matplotlib\n",
    "%matplotlib inline\n",
    "import matplotlib.pyplot as plt\n",
    "import seaborn as sns\n",
    "from scipy.stats import pearsonr"
   ]
  },
  {
   "cell_type": "code",
   "execution_count": 2,
   "metadata": {
    "collapsed": true
   },
   "outputs": [],
   "source": [
    "# set data pathway\n",
    "data_folder = '/Users/tobybalfre/Documents/Capgemini/Accounts/Rugby 7s/Rugby Data/_6_data_clean'\n",
    "\n",
    "# set head to head filename\n",
    "head_filename = 'all_time_head_to_head.csv'"
   ]
  },
  {
   "cell_type": "code",
   "execution_count": 3,
   "metadata": {
    "collapsed": true
   },
   "outputs": [],
   "source": [
    "teamhead = pd.read_csv(data_folder + '/' + head_filename)"
   ]
  },
  {
   "cell_type": "markdown",
   "metadata": {},
   "source": [
    "## Head To Head Pairwise Analysis "
   ]
  },
  {
   "cell_type": "code",
   "execution_count": 4,
   "metadata": {
    "collapsed": true
   },
   "outputs": [],
   "source": [
    "# look at tournament ranking by value then by consistency."
   ]
  },
  {
   "cell_type": "code",
   "execution_count": 5,
   "metadata": {},
   "outputs": [
    {
     "data": {
      "text/plain": [
       "Index(['Unnamed: 0', 'drawn', 'played', 'team1conversions', 'team1dropgoals',\n",
       "       'team1penalties', 'team1points', 'team1tries', 'team1won',\n",
       "       'team2conversions', 'team2dropgoals', 'team2penalties', 'team2points',\n",
       "       'team2tries', 'team2won', 'tournament_id', 'team1id', 'team2id'],\n",
       "      dtype='object')"
      ]
     },
     "execution_count": 5,
     "metadata": {},
     "output_type": "execute_result"
    }
   ],
   "source": [
    "teamhead.columns"
   ]
  },
  {
   "cell_type": "code",
   "execution_count": null,
   "metadata": {
    "collapsed": true
   },
   "outputs": [],
   "source": []
  },
  {
   "cell_type": "markdown",
   "metadata": {},
   "source": [
    "### Agression Ranking \n",
    "\n",
    "based on number of tries scored.\n",
    "firstly extract team1 mean and s.d. then team 2, combine to then rank."
   ]
  },
  {
   "cell_type": "code",
   "execution_count": 16,
   "metadata": {
    "collapsed": true
   },
   "outputs": [],
   "source": [
    "# get mean and standard deviation for try scores by each team for each tournament.\n",
    "agression = teamhead.groupby(['tournament_id', 'team1id'])['team1tries'].agg(['mean','std']).reset_index()"
   ]
  },
  {
   "cell_type": "code",
   "execution_count": 17,
   "metadata": {
    "collapsed": true
   },
   "outputs": [],
   "source": [
    "# now get ranking for each team in each tournament.\n",
    "#s['Rank'] = s.groupby(['Year'])['Return'].rank(ascending=False)\n",
    "\n",
    "agression['mean_rank'] = agression.groupby(['tournament_id'])['mean'].rank(ascending=False)"
   ]
  },
  {
   "cell_type": "code",
   "execution_count": 18,
   "metadata": {
    "collapsed": true
   },
   "outputs": [],
   "source": [
    "agression['std_rank'] = agression.groupby(['tournament_id'])['std'].rank(ascending=False)"
   ]
  },
  {
   "cell_type": "code",
   "execution_count": 19,
   "metadata": {},
   "outputs": [
    {
     "data": {
      "text/html": [
       "<div>\n",
       "<style scoped>\n",
       "    .dataframe tbody tr th:only-of-type {\n",
       "        vertical-align: middle;\n",
       "    }\n",
       "\n",
       "    .dataframe tbody tr th {\n",
       "        vertical-align: top;\n",
       "    }\n",
       "\n",
       "    .dataframe thead th {\n",
       "        text-align: right;\n",
       "    }\n",
       "</style>\n",
       "<table border=\"1\" class=\"dataframe\">\n",
       "  <thead>\n",
       "    <tr style=\"text-align: right;\">\n",
       "      <th></th>\n",
       "      <th>tournament_id</th>\n",
       "      <th>team1id</th>\n",
       "      <th>mean</th>\n",
       "      <th>std</th>\n",
       "      <th>mean_rank</th>\n",
       "      <th>std_rank</th>\n",
       "    </tr>\n",
       "  </thead>\n",
       "  <tbody>\n",
       "    <tr>\n",
       "      <th>0</th>\n",
       "      <td>1611</td>\n",
       "      <td>2408</td>\n",
       "      <td>3.000000</td>\n",
       "      <td>1.414214</td>\n",
       "      <td>11.0</td>\n",
       "      <td>5.0</td>\n",
       "    </tr>\n",
       "    <tr>\n",
       "      <th>1</th>\n",
       "      <td>1611</td>\n",
       "      <td>2409</td>\n",
       "      <td>3.000000</td>\n",
       "      <td>0.000000</td>\n",
       "      <td>11.0</td>\n",
       "      <td>13.0</td>\n",
       "    </tr>\n",
       "    <tr>\n",
       "      <th>2</th>\n",
       "      <td>1611</td>\n",
       "      <td>2410</td>\n",
       "      <td>5.500000</td>\n",
       "      <td>2.645751</td>\n",
       "      <td>1.5</td>\n",
       "      <td>1.0</td>\n",
       "    </tr>\n",
       "    <tr>\n",
       "      <th>3</th>\n",
       "      <td>1611</td>\n",
       "      <td>2412</td>\n",
       "      <td>4.000000</td>\n",
       "      <td>NaN</td>\n",
       "      <td>5.5</td>\n",
       "      <td>NaN</td>\n",
       "    </tr>\n",
       "    <tr>\n",
       "      <th>4</th>\n",
       "      <td>1611</td>\n",
       "      <td>2414</td>\n",
       "      <td>2.333333</td>\n",
       "      <td>1.154701</td>\n",
       "      <td>13.0</td>\n",
       "      <td>7.5</td>\n",
       "    </tr>\n",
       "    <tr>\n",
       "      <th>5</th>\n",
       "      <td>1611</td>\n",
       "      <td>2415</td>\n",
       "      <td>2.250000</td>\n",
       "      <td>0.500000</td>\n",
       "      <td>14.0</td>\n",
       "      <td>12.0</td>\n",
       "    </tr>\n",
       "    <tr>\n",
       "      <th>6</th>\n",
       "      <td>1611</td>\n",
       "      <td>2416</td>\n",
       "      <td>3.000000</td>\n",
       "      <td>NaN</td>\n",
       "      <td>11.0</td>\n",
       "      <td>NaN</td>\n",
       "    </tr>\n",
       "    <tr>\n",
       "      <th>7</th>\n",
       "      <td>1611</td>\n",
       "      <td>2418</td>\n",
       "      <td>3.750000</td>\n",
       "      <td>1.258306</td>\n",
       "      <td>7.0</td>\n",
       "      <td>6.0</td>\n",
       "    </tr>\n",
       "    <tr>\n",
       "      <th>8</th>\n",
       "      <td>1611</td>\n",
       "      <td>2419</td>\n",
       "      <td>3.333333</td>\n",
       "      <td>1.154701</td>\n",
       "      <td>9.0</td>\n",
       "      <td>7.5</td>\n",
       "    </tr>\n",
       "    <tr>\n",
       "      <th>9</th>\n",
       "      <td>1611</td>\n",
       "      <td>2420</td>\n",
       "      <td>1.500000</td>\n",
       "      <td>0.707107</td>\n",
       "      <td>15.0</td>\n",
       "      <td>10.0</td>\n",
       "    </tr>\n",
       "    <tr>\n",
       "      <th>10</th>\n",
       "      <td>1611</td>\n",
       "      <td>2422</td>\n",
       "      <td>3.666667</td>\n",
       "      <td>0.577350</td>\n",
       "      <td>8.0</td>\n",
       "      <td>11.0</td>\n",
       "    </tr>\n",
       "    <tr>\n",
       "      <th>11</th>\n",
       "      <td>1611</td>\n",
       "      <td>2423</td>\n",
       "      <td>4.000000</td>\n",
       "      <td>1.000000</td>\n",
       "      <td>5.5</td>\n",
       "      <td>9.0</td>\n",
       "    </tr>\n",
       "    <tr>\n",
       "      <th>12</th>\n",
       "      <td>1611</td>\n",
       "      <td>3910</td>\n",
       "      <td>5.400000</td>\n",
       "      <td>1.673320</td>\n",
       "      <td>3.0</td>\n",
       "      <td>4.0</td>\n",
       "    </tr>\n",
       "    <tr>\n",
       "      <th>13</th>\n",
       "      <td>1611</td>\n",
       "      <td>3911</td>\n",
       "      <td>4.400000</td>\n",
       "      <td>1.949359</td>\n",
       "      <td>4.0</td>\n",
       "      <td>3.0</td>\n",
       "    </tr>\n",
       "    <tr>\n",
       "      <th>14</th>\n",
       "      <td>1611</td>\n",
       "      <td>3921</td>\n",
       "      <td>5.500000</td>\n",
       "      <td>2.121320</td>\n",
       "      <td>1.5</td>\n",
       "      <td>2.0</td>\n",
       "    </tr>\n",
       "    <tr>\n",
       "      <th>15</th>\n",
       "      <td>1612</td>\n",
       "      <td>2408</td>\n",
       "      <td>5.000000</td>\n",
       "      <td>2.000000</td>\n",
       "      <td>3.5</td>\n",
       "      <td>3.0</td>\n",
       "    </tr>\n",
       "    <tr>\n",
       "      <th>16</th>\n",
       "      <td>1612</td>\n",
       "      <td>2409</td>\n",
       "      <td>4.500000</td>\n",
       "      <td>2.121320</td>\n",
       "      <td>5.5</td>\n",
       "      <td>1.5</td>\n",
       "    </tr>\n",
       "    <tr>\n",
       "      <th>17</th>\n",
       "      <td>1612</td>\n",
       "      <td>2410</td>\n",
       "      <td>3.333333</td>\n",
       "      <td>1.154701</td>\n",
       "      <td>10.0</td>\n",
       "      <td>7.0</td>\n",
       "    </tr>\n",
       "    <tr>\n",
       "      <th>18</th>\n",
       "      <td>1612</td>\n",
       "      <td>2412</td>\n",
       "      <td>2.500000</td>\n",
       "      <td>0.707107</td>\n",
       "      <td>13.0</td>\n",
       "      <td>12.5</td>\n",
       "    </tr>\n",
       "    <tr>\n",
       "      <th>19</th>\n",
       "      <td>1612</td>\n",
       "      <td>2414</td>\n",
       "      <td>2.666667</td>\n",
       "      <td>0.577350</td>\n",
       "      <td>12.0</td>\n",
       "      <td>14.0</td>\n",
       "    </tr>\n",
       "  </tbody>\n",
       "</table>\n",
       "</div>"
      ],
      "text/plain": [
       "    tournament_id  team1id      mean       std  mean_rank  std_rank\n",
       "0            1611     2408  3.000000  1.414214       11.0       5.0\n",
       "1            1611     2409  3.000000  0.000000       11.0      13.0\n",
       "2            1611     2410  5.500000  2.645751        1.5       1.0\n",
       "3            1611     2412  4.000000       NaN        5.5       NaN\n",
       "4            1611     2414  2.333333  1.154701       13.0       7.5\n",
       "5            1611     2415  2.250000  0.500000       14.0      12.0\n",
       "6            1611     2416  3.000000       NaN       11.0       NaN\n",
       "7            1611     2418  3.750000  1.258306        7.0       6.0\n",
       "8            1611     2419  3.333333  1.154701        9.0       7.5\n",
       "9            1611     2420  1.500000  0.707107       15.0      10.0\n",
       "10           1611     2422  3.666667  0.577350        8.0      11.0\n",
       "11           1611     2423  4.000000  1.000000        5.5       9.0\n",
       "12           1611     3910  5.400000  1.673320        3.0       4.0\n",
       "13           1611     3911  4.400000  1.949359        4.0       3.0\n",
       "14           1611     3921  5.500000  2.121320        1.5       2.0\n",
       "15           1612     2408  5.000000  2.000000        3.5       3.0\n",
       "16           1612     2409  4.500000  2.121320        5.5       1.5\n",
       "17           1612     2410  3.333333  1.154701       10.0       7.0\n",
       "18           1612     2412  2.500000  0.707107       13.0      12.5\n",
       "19           1612     2414  2.666667  0.577350       12.0      14.0"
      ]
     },
     "execution_count": 19,
     "metadata": {},
     "output_type": "execute_result"
    }
   ],
   "source": [
    "agression.head(20)"
   ]
  },
  {
   "cell_type": "code",
   "execution_count": 20,
   "metadata": {},
   "outputs": [
    {
     "data": {
      "text/plain": [
       "<matplotlib.axes._subplots.AxesSubplot at 0x10a6491d0>"
      ]
     },
     "execution_count": 20,
     "metadata": {},
     "output_type": "execute_result"
    },
    {
     "data": {
      "image/png": "[encoded data removed]",
      "text/plain": [
       "<matplotlib.figure.Figure at 0x10a647470>"
      ]
     },
     "metadata": {},
     "output_type": "display_data"
    }
   ],
   "source": [
    "agression[agression['team1id']==2409]['mean_rank'].hist()"
   ]
  },
  {
   "cell_type": "markdown",
   "metadata": {},
   "source": [
    "###  Defence Ranking\n",
    "'team1dropgoals'"
   ]
  },
  {
   "cell_type": "code",
   "execution_count": 24,
   "metadata": {
    "collapsed": true
   },
   "outputs": [],
   "source": [
    "dropped = teamhead.groupby(['tournament_id', 'team1id'])['team1dropgoals'].agg(['mean','std']).reset_index()\n",
    "dropped['mean_rank'] = dropped.groupby(['tournament_id'])['mean'].rank(ascending=False)\n",
    "dropped['std_rank'] = dropped.groupby(['tournament_id'])['std'].rank(ascending=False)"
   ]
  },
  {
   "cell_type": "markdown",
   "metadata": {},
   "source": [
    "#  Conversions\n",
    "'team1conversions'"
   ]
  },
  {
   "cell_type": "code",
   "execution_count": 29,
   "metadata": {
    "collapsed": true
   },
   "outputs": [],
   "source": [
    "conversions = teamhead.groupby(['tournament_id', 'team1id'])['team1conversions'].agg(['mean','std']).reset_index()\n",
    "conversions['mean_rank'] = conversions.groupby(['tournament_id'])['mean'].rank(ascending=False)\n",
    "conversions['std_rank'] = conversions.groupby(['tournament_id'])['std'].rank(ascending=False)"
   ]
  },
  {
   "cell_type": "markdown",
   "metadata": {},
   "source": [
    "## Top teams comparison\n",
    "New Zealand\n",
    "South Africa\n",
    "Fiji\n",
    "England\n",
    "Argentina\n"
   ]
  },
  {
   "cell_type": "code",
   "execution_count": 25,
   "metadata": {
    "collapsed": true
   },
   "outputs": [],
   "source": [
    "#2412 - England 7s\n",
    "#2416 - New Zealand 7s\n",
    "#2420 - South Africa 7s\n",
    "#2413 - Fiji 7s\n",
    "#2408 - Argentina 7s\n",
    "# look at ranking variation of top teams across all tournaments\n",
    "topteams = [2412, 2416, 2420, 2413, 2408]"
   ]
  },
  {
   "cell_type": "markdown",
   "metadata": {},
   "source": [
    "### Agression "
   ]
  },
  {
   "cell_type": "code",
   "execution_count": 21,
   "metadata": {
    "collapsed": true
   },
   "outputs": [],
   "source": [
    "\n",
    "# filter data by only top teams being team1 (need to look at when they are team 2 later)\n",
    "agression_top = agression.loc[agression['team1id'].isin(topteams)]"
   ]
  },
  {
   "cell_type": "code",
   "execution_count": 22,
   "metadata": {},
   "outputs": [
    {
     "data": {
      "text/html": [
       "<div>\n",
       "<style scoped>\n",
       "    .dataframe tbody tr th:only-of-type {\n",
       "        vertical-align: middle;\n",
       "    }\n",
       "\n",
       "    .dataframe tbody tr th {\n",
       "        vertical-align: top;\n",
       "    }\n",
       "\n",
       "    .dataframe thead th {\n",
       "        text-align: right;\n",
       "    }\n",
       "</style>\n",
       "<table border=\"1\" class=\"dataframe\">\n",
       "  <thead>\n",
       "    <tr style=\"text-align: right;\">\n",
       "      <th></th>\n",
       "      <th>team1id</th>\n",
       "      <th>mean</th>\n",
       "      <th>std</th>\n",
       "    </tr>\n",
       "  </thead>\n",
       "  <tbody>\n",
       "    <tr>\n",
       "      <th>0</th>\n",
       "      <td>2408</td>\n",
       "      <td>9.525000</td>\n",
       "      <td>3.130810</td>\n",
       "    </tr>\n",
       "    <tr>\n",
       "      <th>1</th>\n",
       "      <td>2412</td>\n",
       "      <td>10.194444</td>\n",
       "      <td>4.854164</td>\n",
       "    </tr>\n",
       "    <tr>\n",
       "      <th>2</th>\n",
       "      <td>2413</td>\n",
       "      <td>9.785714</td>\n",
       "      <td>3.901254</td>\n",
       "    </tr>\n",
       "    <tr>\n",
       "      <th>3</th>\n",
       "      <td>2416</td>\n",
       "      <td>11.588235</td>\n",
       "      <td>5.229828</td>\n",
       "    </tr>\n",
       "    <tr>\n",
       "      <th>4</th>\n",
       "      <td>2420</td>\n",
       "      <td>11.558824</td>\n",
       "      <td>3.732804</td>\n",
       "    </tr>\n",
       "  </tbody>\n",
       "</table>\n",
       "</div>"
      ],
      "text/plain": [
       "   team1id       mean       std\n",
       "0     2408   9.525000  3.130810\n",
       "1     2412  10.194444  4.854164\n",
       "2     2413   9.785714  3.901254\n",
       "3     2416  11.588235  5.229828\n",
       "4     2420  11.558824  3.732804"
      ]
     },
     "execution_count": 22,
     "metadata": {},
     "output_type": "execute_result"
    }
   ],
   "source": [
    "agression_top.groupby(['team1id'])['mean_rank'].agg(['mean','std']).reset_index()"
   ]
  },
  {
   "cell_type": "markdown",
   "metadata": {},
   "source": [
    "### Defence (DropGoals) "
   ]
  },
  {
   "cell_type": "code",
   "execution_count": 31,
   "metadata": {},
   "outputs": [
    {
     "data": {
      "text/html": [
       "<div>\n",
       "<style scoped>\n",
       "    .dataframe tbody tr th:only-of-type {\n",
       "        vertical-align: middle;\n",
       "    }\n",
       "\n",
       "    .dataframe tbody tr th {\n",
       "        vertical-align: top;\n",
       "    }\n",
       "\n",
       "    .dataframe thead th {\n",
       "        text-align: right;\n",
       "    }\n",
       "</style>\n",
       "<table border=\"1\" class=\"dataframe\">\n",
       "  <thead>\n",
       "    <tr style=\"text-align: right;\">\n",
       "      <th></th>\n",
       "      <th>team1id</th>\n",
       "      <th>mean</th>\n",
       "      <th>std</th>\n",
       "    </tr>\n",
       "  </thead>\n",
       "  <tbody>\n",
       "    <tr>\n",
       "      <th>0</th>\n",
       "      <td>2408</td>\n",
       "      <td>8.125000</td>\n",
       "      <td>0.319333</td>\n",
       "    </tr>\n",
       "    <tr>\n",
       "      <th>1</th>\n",
       "      <td>2412</td>\n",
       "      <td>8.166667</td>\n",
       "      <td>0.297044</td>\n",
       "    </tr>\n",
       "    <tr>\n",
       "      <th>2</th>\n",
       "      <td>2413</td>\n",
       "      <td>8.214286</td>\n",
       "      <td>0.323103</td>\n",
       "    </tr>\n",
       "    <tr>\n",
       "      <th>3</th>\n",
       "      <td>2416</td>\n",
       "      <td>8.205882</td>\n",
       "      <td>0.253650</td>\n",
       "    </tr>\n",
       "    <tr>\n",
       "      <th>4</th>\n",
       "      <td>2420</td>\n",
       "      <td>8.147059</td>\n",
       "      <td>0.342997</td>\n",
       "    </tr>\n",
       "  </tbody>\n",
       "</table>\n",
       "</div>"
      ],
      "text/plain": [
       "   team1id      mean       std\n",
       "0     2408  8.125000  0.319333\n",
       "1     2412  8.166667  0.297044\n",
       "2     2413  8.214286  0.323103\n",
       "3     2416  8.205882  0.253650\n",
       "4     2420  8.147059  0.342997"
      ]
     },
     "execution_count": 31,
     "metadata": {},
     "output_type": "execute_result"
    }
   ],
   "source": [
    "dropped_top = dropped.loc[agression['team1id'].isin(topteams)]\n",
    "dropped_top.groupby(['team1id'])['mean_rank'].agg(['mean','std']).reset_index()"
   ]
  },
  {
   "cell_type": "markdown",
   "metadata": {},
   "source": [
    "###  Conversions\n",
    "'team1conversions'"
   ]
  },
  {
   "cell_type": "code",
   "execution_count": 30,
   "metadata": {},
   "outputs": [
    {
     "data": {
      "text/html": [
       "<div>\n",
       "<style scoped>\n",
       "    .dataframe tbody tr th:only-of-type {\n",
       "        vertical-align: middle;\n",
       "    }\n",
       "\n",
       "    .dataframe tbody tr th {\n",
       "        vertical-align: top;\n",
       "    }\n",
       "\n",
       "    .dataframe thead th {\n",
       "        text-align: right;\n",
       "    }\n",
       "</style>\n",
       "<table border=\"1\" class=\"dataframe\">\n",
       "  <thead>\n",
       "    <tr style=\"text-align: right;\">\n",
       "      <th></th>\n",
       "      <th>team1id</th>\n",
       "      <th>mean</th>\n",
       "      <th>std</th>\n",
       "    </tr>\n",
       "  </thead>\n",
       "  <tbody>\n",
       "    <tr>\n",
       "      <th>0</th>\n",
       "      <td>2408</td>\n",
       "      <td>9.125000</td>\n",
       "      <td>4.385607</td>\n",
       "    </tr>\n",
       "    <tr>\n",
       "      <th>1</th>\n",
       "      <td>2412</td>\n",
       "      <td>10.916667</td>\n",
       "      <td>3.971405</td>\n",
       "    </tr>\n",
       "    <tr>\n",
       "      <th>2</th>\n",
       "      <td>2413</td>\n",
       "      <td>9.571429</td>\n",
       "      <td>4.108421</td>\n",
       "    </tr>\n",
       "    <tr>\n",
       "      <th>3</th>\n",
       "      <td>2416</td>\n",
       "      <td>10.323529</td>\n",
       "      <td>5.195976</td>\n",
       "    </tr>\n",
       "    <tr>\n",
       "      <th>4</th>\n",
       "      <td>2420</td>\n",
       "      <td>11.058824</td>\n",
       "      <td>4.190325</td>\n",
       "    </tr>\n",
       "  </tbody>\n",
       "</table>\n",
       "</div>"
      ],
      "text/plain": [
       "   team1id       mean       std\n",
       "0     2408   9.125000  4.385607\n",
       "1     2412  10.916667  3.971405\n",
       "2     2413   9.571429  4.108421\n",
       "3     2416  10.323529  5.195976\n",
       "4     2420  11.058824  4.190325"
      ]
     },
     "execution_count": 30,
     "metadata": {},
     "output_type": "execute_result"
    }
   ],
   "source": [
    "conversions_top = conversions.loc[agression['team1id'].isin(topteams)]\n",
    "conversions_top.groupby(['team1id'])['mean_rank'].agg(['mean','std']).reset_index()"
   ]
  }
 ],
 "metadata": {
  "kernelspec": {
   "display_name": "Python 3",
   "language": "python",
   "name": "python3"
  },
  "language_info": {
   "codemirror_mode": {
    "name": "ipython",
    "version": 3
   },
   "file_extension": ".py",
   "mimetype": "text/x-python",
   "name": "python",
   "nbconvert_exporter": "python",
   "pygments_lexer": "ipython3",
   "version": "3.6.3"
  }
 },
 "nbformat": 4,
 "nbformat_minor": 2
}
